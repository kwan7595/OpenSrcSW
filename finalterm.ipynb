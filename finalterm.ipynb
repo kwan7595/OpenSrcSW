{
 "cells": [
  {
   "cell_type": "markdown",
   "id": "1e8c6725",
   "metadata": {
    "pycharm": {
     "name": "#%% md\n"
    }
   },
   "source": [
    "1번"
   ]
  },
  {
   "cell_type": "code",
   "execution_count": 42,
   "id": "ec592991",
   "metadata": {
    "pycharm": {
     "name": "#%%\n"
    }
   },
   "outputs": [
    {
     "name": "stdout",
     "output_type": "stream",
     "text": [
      "('2021-02-23', '1367.0')\n",
      "('2022-03-29', '103751.0')\n"
     ]
    }
   ],
   "source": [
    "import csv\n",
    "with open('country_vaccinations.csv','r') as f:\n",
    "    data = csv.reader(f)\n",
    "    header = next(data) \n",
    "    daily_vaccine_data = [(x[2],x[7]) for x in data]\n",
    "    for row in daily_vaccine_data:\n",
    "        if(row[1]):\n",
    "            print(row)\n",
    "            break\n",
    "    print(daily_vaccine_data[-1])\n"
   ]
  },
  {
   "cell_type": "markdown",
   "id": "0340c3a9",
   "metadata": {
    "pycharm": {
     "name": "#%% md\n"
    }
   },
   "source": [
    "2번\n"
   ]
  },
  {
   "cell_type": "code",
   "execution_count": 28,
   "id": "f8efba07",
   "metadata": {
    "pycharm": {
     "name": "#%%\n"
    }
   },
   "outputs": [
    {
     "name": "stdout",
     "output_type": "stream",
     "text": [
      "[1, 1, 1, 1, 1, 1, 1, 1, 1, 2, 2, 2, 3, 4, 4, 4, 5, 7, 7, 8, 11, 12, 34, 51, 56, 58, 64, 85, 85, 119, 146]\n",
      "[' Soberana Plus', 'COVIran Barekat', ' FAKHRAVAC', ' Razi Cov Pars', ' SpikoGen', 'QazVac', 'Medigen', ' Turkovac', ' QazVac', ' Sinopharm/Wuhan', ' Covaxin', 'EpiVacCorona', ' ZF2001', ' Johnson&Johnson', 'Abdala', ' Soberana02', 'Sinopharm/Beijing', 'CanSino', 'Covaxin', ' Sputnik Light', ' Novavax', 'Pfizer/BioNTech', 'Moderna', ' Sinovac', ' Moderna', ' Sputnik V', 'Oxford/AstraZeneca', 'Johnson&Johnson', ' Sinopharm/Beijing', ' Oxford/AstraZeneca', ' Pfizer/BioNTech']\n",
      "                     접종국가수\n",
      " Soberana Plus           1\n",
      "COVIran Barekat          1\n",
      " FAKHRAVAC               1\n",
      " Razi Cov Pars           1\n",
      " SpikoGen                1\n",
      "QazVac                   1\n",
      "Medigen                  1\n",
      " Turkovac                1\n",
      " QazVac                  1\n",
      " Sinopharm/Wuhan         2\n",
      " Covaxin                 2\n",
      "EpiVacCorona             2\n",
      " ZF2001                  3\n",
      " Johnson&Johnson         4\n",
      "Abdala                   4\n",
      " Soberana02              4\n",
      "Sinopharm/Beijing        5\n",
      "CanSino                  7\n",
      "Covaxin                  7\n",
      " Sputnik Light           8\n",
      " Novavax                11\n",
      "Pfizer/BioNTech         12\n",
      "Moderna                 34\n",
      " Sinovac                51\n",
      " Moderna                56\n",
      " Sputnik V              58\n",
      "Oxford/AstraZeneca      64\n",
      "Johnson&Johnson         85\n",
      " Sinopharm/Beijing      85\n",
      " Oxford/AstraZeneca    119\n",
      " Pfizer/BioNTech       146\n"
     ]
    }
   ],
   "source": [
    "import csv\n",
    "from collections import defaultdict\n",
    "import pandas as pd\n",
    "with open('country_vaccinations.csv','r') as f:\n",
    "    data = csv.reader(f)\n",
    "    header = next(data)\n",
    "    vaccine_count = defaultdict(int)\n",
    "    country_vaccine = defaultdict(list)\n",
    "    for row in data:\n",
    "        vaccines = row[12].split(',')\n",
    "        country_vaccine[row[0]] = vaccines\n",
    "    for key in country_vaccine:\n",
    "        vaccine = country_vaccine[key]\n",
    "        for vac in vaccine:\n",
    "            vaccine_count[vac]+=1\n",
    "    ans = sorted(vaccine_count.items(),key = lambda x:x[1])\n",
    "    a = [x[1] for x in ans]\n",
    "    print(a)\n",
    "    key = [x[0] for x in ans]\n",
    "    print(key)\n",
    "    answer = pd.DataFrame(a,index=key,columns=[\"접종국가수\"])\n",
    "    print(answer)"
   ]
  },
  {
   "cell_type": "markdown",
   "id": "8076cccf",
   "metadata": {
    "pycharm": {
     "name": "#%% md\n"
    }
   },
   "source": [
    "3번"
   ]
  },
  {
   "cell_type": "code",
   "execution_count": null,
   "id": "6c76f73d",
   "metadata": {},
   "outputs": [],
   "source": [
    "import matplotlib.pyplot as plt\n",
    "for "
   ]
  }
 ],
 "metadata": {
  "kernelspec": {
   "display_name": "Python 3 (ipykernel)",
   "language": "python",
   "name": "python3"
  },
  "language_info": {
   "codemirror_mode": {
    "name": "ipython",
    "version": 3
   },
   "file_extension": ".py",
   "mimetype": "text/x-python",
   "name": "python",
   "nbconvert_exporter": "python",
   "pygments_lexer": "ipython3",
   "version": "3.9.12"
  }
 },
 "nbformat": 4,
 "nbformat_minor": 5
}

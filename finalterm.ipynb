{
 "cells": [
  {
   "cell_type": "markdown",
   "id": "1e8c6725",
   "metadata": {
    "pycharm": {
     "name": "#%% md\n"
    }
   },
   "source": [
    "1번"
   ]
  },
  {
   "cell_type": "code",
   "execution_count": 42,
   "id": "ec592991",
   "metadata": {
    "pycharm": {
     "name": "#%%\n"
    }
   },
   "outputs": [
    {
     "name": "stdout",
     "output_type": "stream",
     "text": [
      "('2021-02-23', '1367.0')\n",
      "('2022-03-29', '103751.0')\n"
     ]
    }
   ],
   "source": [
    "import csv\n",
    "with open('country_vaccinations.csv','r') as f:\n",
    "    data = csv.reader(f)\n",
    "    header = next(data) \n",
    "    daily_vaccine_data = [(x[2],x[7]) for x in data]\n",
    "    for row in daily_vaccine_data:\n",
    "        if(row[1]):\n",
    "            print(row)\n",
    "            break\n",
    "    print(daily_vaccine_data[-1])\n"
   ]
  },
  {
   "cell_type": "markdown",
   "id": "0340c3a9",
   "metadata": {
    "pycharm": {
     "name": "#%% md\n"
    }
   },
   "source": [
    "2번\n"
   ]
  },
  {
   "cell_type": "code",
   "execution_count": 26,
   "id": "f8efba07",
   "metadata": {
    "pycharm": {
     "name": "#%%\n"
    }
   },
   "outputs": [],
   "source": [
    "import csv\n",
    "from collections import defaultdict\n",
    "import pandas as pd\n",
    "with open('country_vaccinations.csv','r') as f:\n",
    "    data = csv.reader(f)\n",
    "    header = next(data)\n",
    "    vaccine_count = defaultdict(int)\n",
    "    country_vaccine = defaultdict(list)\n",
    "    for row in data:\n",
    "        vaccines = row[12].split(',')\n",
    "        country_vaccine[row[0]] = vaccines\n",
    "    for key in country_vaccine:\n",
    "        vaccine = country_vaccine[key]\n",
    "        for vac in vaccine:\n",
    "            vaccine_count[vac]+=1\n",
    "    ans = sorted(vaccine_count.items(),key = lambda x:x[1])\n",
    "    a = [x[1] for x in ans]\n",
    "    key = [x[0] for x in ans]\n",
    "    answer = pd.DataFrame(a,index=key,columns=[\"접종국가수\"])\n",
    "    answer"
   ]
  },
  {
   "cell_type": "markdown",
   "id": "8076cccf",
   "metadata": {
    "pycharm": {
     "name": "#%% md\n"
    }
   },
   "source": [
    "3번"
   ]
  }
 ],
 "metadata": {
  "kernelspec": {
   "display_name": "Python 3 (ipykernel)",
   "language": "python",
   "name": "python3"
  },
  "language_info": {
   "codemirror_mode": {
    "name": "ipython",
    "version": 3
   },
   "file_extension": ".py",
   "mimetype": "text/x-python",
   "name": "python",
   "nbconvert_exporter": "python",
   "pygments_lexer": "ipython3",
   "version": "3.9.12"
  }
 },
 "nbformat": 4,
 "nbformat_minor": 5
}

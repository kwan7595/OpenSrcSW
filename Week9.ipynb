{
 "cells": [
  {
   "cell_type": "markdown",
   "id": "32c4c56a",
   "metadata": {},
   "source": [
    "456분은 몇시간 몇 분인지 계산 하시오."
   ]
  },
  {
   "cell_type": "code",
   "execution_count": 3,
   "id": "b41f5b20",
   "metadata": {
    "scrolled": true
   },
   "outputs": [
    {
     "name": "stdout",
     "output_type": "stream",
     "text": [
      "7 36\n"
     ]
    }
   ],
   "source": [
    "print(int(456/60),456%60)"
   ]
  },
  {
   "cell_type": "markdown",
   "id": "6d414c36",
   "metadata": {},
   "source": [
    "다음과 같은 학점 데이터를 딕셔너리에 저장한 후, 이름순으로 첫번째 학생의 학점을 출력하는 프로그램을 작성하시오.\n",
    "-\"홍길동\":3.4,\"임꺽정\":4.0,\"김철수\":2.8,\"이영희\":3.9"
   ]
  },
  {
   "cell_type": "code",
   "execution_count": 36,
   "id": "4f96a8b3",
   "metadata": {},
   "outputs": [
    {
     "name": "stdout",
     "output_type": "stream",
     "text": [
      "2.8 김철수\n"
     ]
    }
   ],
   "source": [
    "dict={\"홍길동\":3.4,\"임꺽정\":4.0,\"김철수\":2.8,\"이영희\":3.9}\n",
    "print(sorted(dict.items())[0][1],sorted(dict.items())[0][0])\n",
    "\n",
    "    "
   ]
  },
  {
   "cell_type": "markdown",
   "id": "d03667c3",
   "metadata": {},
   "source": [
    "key 기준 정렬을 하는건 위처럼 간단하다. 하지만 value기준 정렬을 하기 위해선 sorted에 iterator를 item으로 넘겨줘야 해서, operator library를 가져온 뒤에 인자값으로 key=operator.getitems(0)를 설정해주면 된다.\n",
    "dict.items는 각 key,value 셋을 tuple로 가지는 dict_item을 반환하는데, 이를 list로 바꿀수도 있음.\n",
    "sorted함수는 파라미터로 iterable object를 받는다. 반환하는 값은 정렬한 리스트.\n",
    "자동으로 list type conversion이 일어나는 것 같음.\n",
    "정렬된 리스트에는 [(key,value)...] 이런식으로 튜플이 들어가 있기 때문에, 똑같이 []을 이용해 인덱싱을 사용하여 학점에 접근하였다."
   ]
  },
  {
   "cell_type": "code",
   "execution_count": 38,
   "id": "e50e52d8",
   "metadata": {},
   "outputs": [
    {
     "name": "stdout",
     "output_type": "stream",
     "text": [
      "['김철수', '이영희', '임꺽정', '홍길동']\n",
      "김철수 2.8\n"
     ]
    }
   ],
   "source": [
    "data = dict.keys()\n",
    "data_list=list(data)\n",
    "data_list.sort()\n",
    "print(data_list)\n",
    "key=data_list[0]\n",
    "value=dict[key]\n",
    "print(key,value)\n",
    "    "
   ]
  },
  {
   "cell_type": "markdown",
   "id": "9fe95820",
   "metadata": {},
   "source": [
    "위 방법은 교수님이 보여주신 정답이다. 키 가져와서 리스트로 변환 후, 키 정렬시킨다음 해당 키 가지고 원래 dictionary에 접근해서 찾는 방법.\n"
   ]
  }
 ],
 "metadata": {
  "kernelspec": {
   "display_name": "Python 3 (ipykernel)",
   "language": "python",
   "name": "python3"
  },
  "language_info": {
   "codemirror_mode": {
    "name": "ipython",
    "version": 3
   },
   "file_extension": ".py",
   "mimetype": "text/x-python",
   "name": "python",
   "nbconvert_exporter": "python",
   "pygments_lexer": "ipython3",
   "version": "3.10.4"
  }
 },
 "nbformat": 4,
 "nbformat_minor": 5
}

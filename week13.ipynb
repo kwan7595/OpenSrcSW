{
 "cells": [
  {
   "cell_type": "markdown",
   "id": "eed8049e",
   "metadata": {},
   "source": [
    "실습: 내 생일 서울의 최고 기온 시각화\n"
   ]
  },
  {
   "cell_type": "code",
   "execution_count": 7,
   "id": "7f3a112c",
   "metadata": {},
   "outputs": [
    {
     "name": "stdout",
     "output_type": "stream",
     "text": [
      "[8.5]\n"
     ]
    },
    {
     "data": {
      "text/plain": [
       "[<matplotlib.lines.Line2D at 0x10c255e50>]"
      ]
     },
     "execution_count": 7,
     "metadata": {},
     "output_type": "execute_result"
    },
    {
     "data": {
      "image/png": "[encoded data removed]",
      "text/plain": [
       "<Figure size 432x288 with 1 Axes>"
      ]
     },
     "metadata": {
      "needs_background": "light"
     },
     "output_type": "display_data"
    }
   ],
   "source": [
    "import csv\n",
    "import matplotlib.pyplot as plt\n",
    "with open('seoul.csv') as f: ## 데이터가 다른 데이터인것 같다.. 일단 넘어감\n",
    "    data = csv.reader(f)\n",
    "    next(data)\n",
    "    result=[]\n",
    "    for row in data:\n",
    "        if row[-1]!='':\n",
    "            if row[0].split('/')[1] =='12' and row[0].split('/')[2]=='23':\n",
    "                result.append(float(row[-1]))\n",
    "print(result)\n",
    "plt.plot(result)"
   ]
  },
  {
   "cell_type": "markdown",
   "id": "3bbd1607",
   "metadata": {},
   "source": [
    "실습: 기온 데이터를 히스토그램으로 표현하기 - 8월 최고기온.."
   ]
  },
  {
   "cell_type": "code",
   "execution_count": 5,
   "id": "e132c12b",
   "metadata": {},
   "outputs": [
    {
     "data": {
      "image/png": "[encoded data removed]",
      "text/plain": [
       "<Figure size 432x288 with 1 Axes>"
      ]
     },
     "metadata": {
      "needs_background": "light"
     },
     "output_type": "display_data"
    }
   ],
   "source": [
    "import csv\n",
    "import matplotlib.pyplot as plt\n",
    "with open('seoul.csv') as f:\n",
    "    data=csv.reader(f)\n",
    "    next(data)\n",
    "    aug=[]\n",
    "    for row in data:\n",
    "        month=row[0].split('/')[1]\n",
    "        if row[-1]!='':\n",
    "            if month=='08':\n",
    "                aug.append(float(row[-1])) ## 최고 기온 추가\n",
    "plt.hist(aug,bins=100,color='r')\n",
    "plt.show()"
   ]
  },
  {
   "cell_type": "markdown",
   "id": "048ff4b7",
   "metadata": {},
   "source": [
    "실습 : 기온 데이터를 상자그림으로 표현하기"
   ]
  },
  {
   "cell_type": "code",
   "execution_count": 8,
   "id": "3012b8ba",
   "metadata": {},
   "outputs": [
    {
     "data": {
      "image/png": "[encoded data removed]",
      "text/plain": [
       "<Figure size 432x288 with 1 Axes>"
      ]
     },
     "metadata": {
      "needs_background": "light"
     },
     "output_type": "display_data"
    }
   ],
   "source": [
    "with open('seoul.csv') as f: \n",
    "    data = csv.reader(f)\n",
    "    next(data)\n",
    "    month=[[],[],[],[],[],[],[],[],[],[],[],[]]\n",
    "    for row in data:\n",
    "        if row[-1]!='':\n",
    "            month[int(row[0].split('/')[1])-1].append(float(row[-1]))\n",
    "plt.boxplot(month)\n",
    "plt.show()"
   ]
  },
  {
   "cell_type": "markdown",
   "id": "1c31aca0",
   "metadata": {},
   "source": [
    "실습: 항아리 모양 그래프 그리기 - 한글 깨짐.."
   ]
  },
  {
   "cell_type": "code",
   "execution_count": null,
   "id": "5389be67",
   "metadata": {},
   "outputs": [],
   "source": [
    "import csv\n",
    "with open('gender.csv') as f:\n",
    "    data = csv.reader(f)\n",
    "    m=[]\n",
    "    f=[]\n",
    "    for row in data:\n",
    "        if '등촌3동' in row[0]:\n",
    "            for i in row[3:104]:\n",
    "                m.append(int(i))\n",
    "            for i in row[106:]:\n",
    "                f.append(int(i))\n"
   ]
  },
  {
   "cell_type": "code",
   "execution_count": null,
   "id": "950c8656",
   "metadata": {},
   "outputs": [],
   "source": [
    "import matplotlib.pyplot as plt\n",
    "plt.rc('font',family='Malgun Gothic')\n",
    "plt.title('신도림 지역의 남녀 성별 인구 분포')\n",
    "plt.barh(range(101),m,label='남성')\n",
    "plt.barh(range(101),f,label='여성')\n",
    "plt.legend()\n",
    "plt.show()"
   ]
  },
  {
   "cell_type": "markdown",
   "id": "405c8680",
   "metadata": {},
   "source": [
    "실습 1: -pi~pi 사이의 사인 값을 계산하여 곡선을 그래프로 표시하는 프로그램을 작성 하시오."
   ]
  },
  {
   "cell_type": "code",
   "execution_count": 7,
   "id": "ea99238f",
   "metadata": {},
   "outputs": [
    {
     "data": {
      "text/plain": [
       "[<matplotlib.lines.Line2D at 0x1174a37c0>]"
      ]
     },
     "execution_count": 7,
     "metadata": {},
     "output_type": "execute_result"
    },
    {
     "data": {
      "image/png": "[encoded data removed]",
      "text/plain": [
       "<Figure size 432x288 with 1 Axes>"
      ]
     },
     "metadata": {
      "needs_background": "light"
     },
     "output_type": "display_data"
    }
   ],
   "source": [
    "import matplotlib.pyplot as plt\n",
    "import numpy as np\n",
    "x = np.arange(-np.pi,np.pi,0.1)\n",
    "y = np.sin(x)\n",
    "plt.plot(x,y)"
   ]
  },
  {
   "cell_type": "markdown",
   "id": "63571549",
   "metadata": {},
   "source": [
    "실습 2: 2차원(3*6) 행렬 형태로 표현된 3개의 문서와 1차원 벡터 형태의 질의 사이의 코사인 유사도를 계산하고 막대 그래프로 표시하는 프로그램을 작성하시오."
   ]
  },
  {
   "cell_type": "code",
   "execution_count": 34,
   "id": "9ed2558c",
   "metadata": {},
   "outputs": [
    {
     "data": {
      "text/plain": [
       "([<matplotlib.axis.XTick at 0x16064cc40>,\n",
       "  <matplotlib.axis.XTick at 0x16064cc10>,\n",
       "  <matplotlib.axis.XTick at 0x16064caf0>],\n",
       " [Text(0, 0, 'doc1=0.58'), Text(1, 0, 'doc2=0.87'), Text(2, 0, 'doc3=0.67')])"
      ]
     },
     "execution_count": 34,
     "metadata": {},
     "output_type": "execute_result"
    },
    {
     "data": {
      "image/png": "[encoded data removed]",
      "text/plain": [
       "<Figure size 432x288 with 1 Axes>"
      ]
     },
     "metadata": {
      "needs_background": "light"
     },
     "output_type": "display_data"
    }
   ],
   "source": [
    "import matplotlib.pyplot as plt\n",
    "import numpy as np\n",
    "Docs=np.array([[1,1,0,1,0,1],[1,1,1,0,1,0],[1,1,0,1,0,0]])\n",
    "Query =np.array([1,1,0,0,1,0])\n",
    "x=np.arange(3)\n",
    "sim=np.array([np.dot(row,Query)/(np.sqrt(np.dot(row,row))*np.sqrt(np.dot(Query,Query))) for row in Docs])\n",
    "# for row in Docs:)\n",
    "#     cossim=np.dot(row,Query)/(np.linalg.norm(row)*np.linalg.norm(Query))\n",
    "#     sim.append(cossim)\n",
    "plt.title(\"Cosine Simmilarities\")\n",
    "plt.bar(x,sim)\n",
    "plt.xticks(x,[f\"doc{x+1}={sim[x]:.2f}\" for x in range(3)])\n"
   ]
  }
 ],
 "metadata": {
  "kernelspec": {
   "display_name": "Python 3 (ipykernel)",
   "language": "python",
   "name": "python3"
  },
  "language_info": {
   "codemirror_mode": {
    "name": "ipython",
    "version": 3
   },
   "file_extension": ".py",
   "mimetype": "text/x-python",
   "name": "python",
   "nbconvert_exporter": "python",
   "pygments_lexer": "ipython3",
   "version": "3.9.12"
  }
 },
 "nbformat": 4,
 "nbformat_minor": 5
}

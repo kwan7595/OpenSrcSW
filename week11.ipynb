{
 "cells": [
  {
   "cell_type": "markdown",
   "id": "583658d9",
   "metadata": {},
   "source": [
    "- 명령행 인자(프로그램명 제외) 를 입력 받아 모두 대문자로 변환하는 프로그램을 작성하시오."
   ]
  },
  {
   "cell_type": "code",
   "execution_count": 4,
   "id": "7e417d92",
   "metadata": {},
   "outputs": [
    {
     "name": "stdout",
     "output_type": "stream",
     "text": [
      "-F /USERS/KWAN/LIBRARY/JUPYTER/RUNTIME/KERNEL-45D280F8-ABA5-48A1-8252-5ECED583D5C5.JSON\n"
     ]
    }
   ],
   "source": [
    "import sys\n",
    "\n",
    "str_list = []\n",
    "\n",
    "for arg in sys.argv[1:]:\n",
    "    str_list.append(arg.upper())\n",
    "\n",
    "print(\" \".join(str_list))"
   ]
  },
  {
   "cell_type": "markdown",
   "id": "6b06e6c1",
   "metadata": {},
   "source": [
    "unix의 cp(copy) 명령어를 python으로 구현하시오.\n",
    "예: python cp.py file1 file2\n",
    "file1->file2 복사"
   ]
  },
  {
   "cell_type": "code",
   "execution_count": null,
   "id": "08c47510",
   "metadata": {},
   "outputs": [],
   "source": [
    "#-*- codig:utf-8 -*-\n",
    "import sys\n",
    "arg_num = len(sys.argv)\n",
    "if(arg_num!=3):\n",
    "    print(\"Usage: python cp.py file1 file2\")\n",
    "    sys.exit()\n",
    "\n",
    "in_name = sys.argv[1]\n",
    "out_name = sys.argv[2]\n",
    "\n",
    "in_f = open(in_name,\"rb\")\n",
    "out_f = open(out_name,\"wb\")\n",
    "\n",
    "data=in_f.read()\n",
    "out_f.write(data)\n",
    "\n",
    "int_f.close()\n",
    "out_f.close()"
   ]
  },
  {
   "cell_type": "markdown",
   "id": "f6a86a46",
   "metadata": {},
   "source": [
    " - \"README.txt\" 파일에 있는 각 단어 수를 계산하여 출력하는 프로그램을 작성하시오.\n",
    " defaultdict -> value 기본값을 int로 가지는 딕셔너리 생성. 키 안보고 참조 가능."
   ]
  },
  {
   "cell_type": "code",
   "execution_count": 12,
   "id": "b4d44b0c",
   "metadata": {},
   "outputs": [
    {
     "name": "stdout",
     "output_type": "stream",
     "text": [
      "파이썬 2\n",
      "파일 2\n",
      "읽기 2\n",
      "예제입니다. 1\n",
      "다양한 1\n",
      "메소드를 1\n",
      "공부해 1\n",
      "보세요. 1\n",
      "실력이 1\n",
      "팍팍 1\n",
      "늘 1\n",
      "거에요~ 1\n",
      "단어 1\n",
      "수를 1\n",
      "카운트하는 1\n",
      "실습 1\n",
      "예제입니다 1\n"
     ]
    }
   ],
   "source": [
    "from collections import defaultdict\n",
    "\n",
    "with open('README.txt','r') as f:\n",
    "    data = f.readlines()\n",
    "    d = defaultdict(int)\n",
    "    for line in data:\n",
    "        for word in line.split():\n",
    "            d[word]+=1\n",
    "    for keys in d:\n",
    "        print(keys, d[keys])\n"
   ]
  },
  {
   "cell_type": "markdown",
   "id": "20936caf",
   "metadata": {},
   "source": [
    "- 2차원 공간에서 점을 나타내는 Point 클래스를 작성하고, 그것을 상속받아 Box 클래스를 작성하시오."
   ]
  },
  {
   "cell_type": "code",
   "execution_count": 19,
   "id": "8afbf1a7",
   "metadata": {},
   "outputs": [
    {
     "name": "stdout",
     "output_type": "stream",
     "text": [
      "x=1.0, y=3.0\n",
      "x=2.0, y=4.0\n",
      "x=2.0, y=4.0\n",
      "x=3.0, y=5.0\n",
      "x=2.0, y=4.0\n",
      "x=3.0, y=5.0\n",
      "x=3.0, y=5.0\n",
      "x=4.0, y=6.0\n"
     ]
    }
   ],
   "source": [
    "class Point:\n",
    "\n",
    "    def __init__(self,x,y):\n",
    "        self.x=x\n",
    "        self.y=y\n",
    "    def move(self,dx,dy):\n",
    "        self.x+=dx\n",
    "        self.y+=dy\n",
    "    \n",
    "    def show(self):\n",
    "        print(\"x={0:.1f}, y={1:.1f}\".format(self.x, self.y))\n",
    "\n",
    "class Box(Point):\n",
    "    \n",
    "    def __init__(self,p1,p2):\n",
    "        self.p1=p1\n",
    "        self.p2=p2\n",
    "    def move(self,dx,dy):\n",
    "        self.p1.move(dx,dy)\n",
    "        self.p2.move(dx,dy)\n",
    "    def Show(self):\n",
    "        self.p1.show()\n",
    "        self.p2.show()\n",
    "\n",
    "p1=Point(1,3)\n",
    "p2=Point(2,4)\n",
    "p1.show()\n",
    "p1.move(1,1)\n",
    "p1.show()\n",
    "p2.show()\n",
    "p2.move(1,1)\n",
    "p2.show()\n",
    "\n",
    "box=Box(p1,p2)\n",
    "box.Show() \n",
    "box.move(1,1)\n",
    "box.Show() "
   ]
  }
 ],
 "metadata": {
  "kernelspec": {
   "display_name": "Python 3 (ipykernel)",
   "language": "python",
   "name": "python3"
  },
  "language_info": {
   "codemirror_mode": {
    "name": "ipython",
    "version": 3
   },
   "file_extension": ".py",
   "mimetype": "text/x-python",
   "name": "python",
   "nbconvert_exporter": "python",
   "pygments_lexer": "ipython3",
   "version": "3.10.4"
  }
 },
 "nbformat": 4,
 "nbformat_minor": 5
}

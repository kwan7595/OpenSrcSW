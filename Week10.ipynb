{
 "cells": [
  {
   "cell_type": "markdown",
   "id": "c7360e8d",
   "metadata": {},
   "source": [
    "실습1.\n",
    "x값을 읍력 받아 다음 2차 방정식의 y값을 계산하는 프로그램을 작성하시오.\n",
    "- 방정식 : y=3x^2+5x+3\n",
    "- 입력 형식:x=2.1\n",
    "- 출력 형식:y=26.73"
   ]
  },
  {
   "cell_type": "code",
   "execution_count": 2,
   "id": "d38b9bdd",
   "metadata": {},
   "outputs": [
    {
     "name": "stdout",
     "output_type": "stream",
     "text": [
      "x를 입력하세요2.1\n"
     ]
    }
   ],
   "source": [
    "x=float(input(\"x를 입력하세요\"))"
   ]
  },
  {
   "cell_type": "code",
   "execution_count": 6,
   "id": "ff83f34d",
   "metadata": {},
   "outputs": [
    {
     "name": "stdout",
     "output_type": "stream",
     "text": [
      "y=26.73\n",
      "\n"
     ]
    }
   ],
   "source": [
    "y = 3*pow(x,2)+5*x+3\n",
    "print(\"y={0:.2f}\\n\".format(y))"
   ]
  },
  {
   "cell_type": "markdown",
   "id": "a271215d",
   "metadata": {},
   "source": [
    "y의 출력 형식을 지정하기 위해 format을 사용했음. format에 들어가는 인자들의 placeholder 형식으로 {param.no:형식} 이렇게 해주면 여러개의 변수를 출력할 때 형식을 지정해줄 수 있다.\n",
    "실습 2.\n",
    "반지름을 입력 받아 원의 둘레와 넓이를 구하는 프로그램을 작성하시오.\n",
    "- 원주율 : 3.14\n",
    "- 입력 형식 : r=1\n",
    "- 출력 형식 : 반지름 1.0인 원의 넓이는 3.1이고 둘레는 6.3입니다."
   ]
  },
  {
   "cell_type": "code",
   "execution_count": 10,
   "id": "8f35735b",
   "metadata": {},
   "outputs": [
    {
     "name": "stdout",
     "output_type": "stream",
     "text": [
      "r=1\n",
      "반지름1.0인 원의 넓이는 3.1이고, 둘레는 6.3입니다\n"
     ]
    }
   ],
   "source": [
    "r = float(input(\"r=\"))\n",
    "pi = 3.14\n",
    "print(\"반지름{0:.1f}인 원의 넓이는 {1:.1f}이고, 둘레는 {2:.1f}입니다\".format(r,pi*pow(r,2),2*pi*r))"
   ]
  },
  {
   "cell_type": "markdown",
   "id": "14e26b1c",
   "metadata": {},
   "source": [
    "실습3.\n",
    "국어,영어,수학 점수를 입력 받아서 평균을 계산하고 평균에 따라 등급을 부여하는 프로그램을 작성하시오.\n",
    "- 실행 예\n",
    "국어 = 90\n",
    "영어 = 85\n",
    "수학 = 72\n",
    "평균은 82.3이며, 등급은 B입니다."
   ]
  },
  {
   "cell_type": "code",
   "execution_count": 18,
   "id": "fc130cf9",
   "metadata": {},
   "outputs": [
    {
     "name": "stdout",
     "output_type": "stream",
     "text": [
      "90\n",
      "85\n",
      "72\n",
      "평균은 82.3이며, 등급은B입니다.\n"
     ]
    }
   ],
   "source": [
    "gradeli = []\n",
    "sum = 0\n",
    "for i in range(3):\n",
    "    gradeli.append(int(input()))\n",
    "for grade in gradeli:\n",
    "    sum =sum+grade\n",
    "avg= sum/3;\n",
    "if 90<=avg<=100:\n",
    "    grade='A'\n",
    "elif 80<=avg<90:\n",
    "    grade='B'\n",
    "elif 70<=avg<80:\n",
    "    grade='C'\n",
    "elif 60<=avg<70:\n",
    "    grade='D'\n",
    "elif 0.0<=avg<60: \n",
    "    grade='F'\n",
    "else:\n",
    "    grade =\"NA\"\n",
    "print(\"평균은 {0:.1f}이며, 등급은 {1:s}입니다.\".format(avg,grade))"
   ]
  },
  {
   "cell_type": "markdown",
   "id": "b3113f74",
   "metadata": {},
   "source": [
    "실습4.\n",
    "라인 수를 입력 받아서 아래와 같은 모양을 출력하는 프로그램을 작성 하시오.\n",
    "x자 만들기"
   ]
  },
  {
   "cell_type": "code",
   "execution_count": 25,
   "id": "18299f3f",
   "metadata": {},
   "outputs": [
    {
     "name": "stdout",
     "output_type": "stream",
     "text": [
      "lines=11\n",
      "10000000001\n",
      "01000000010\n",
      "00100000100\n",
      "00010001000\n",
      "00001010000\n",
      "00000100000\n",
      "00001010000\n",
      "00010001000\n",
      "00100000100\n",
      "01000000010\n",
      "10000000001\n"
     ]
    }
   ],
   "source": [
    "lines = int(input(\"lines=\"))\n",
    "for i in range(lines):\n",
    "    for j in range(lines):\n",
    "        if(j==i or j==10-i): print(1,end='')\n",
    "        else: print(0,end='')\n",
    "    print()\n",
    "#한줄로 할 수 있을까..?\n"
   ]
  },
  {
   "cell_type": "markdown",
   "id": "a8064130",
   "metadata": {},
   "source": [
    "실습5.\n",
    "n명의 이름과 전화번호를 입력 받아 전화번호 사전을 만들고, 이름과 전화번호로 검색하는 프로그램을 작성하시오"
   ]
  },
  {
   "cell_type": "code",
   "execution_count": 29,
   "id": "4be48515",
   "metadata": {},
   "outputs": [
    {
     "name": "stdout",
     "output_type": "stream",
     "text": [
      "사람 수?4\n",
      "name=123\n",
      "number=ewwfa\n",
      "name=213\n",
      "number=asdfaew\n",
      "name=4124\n",
      "number=asegwe\n",
      "name=3213fwea\n",
      "number=awef\n",
      "검색할 이름?123\n",
      "123's phone number is ewwfa\n"
     ]
    }
   ],
   "source": [
    "def search_phone(book,name):\n",
    "    num=book[name]\n",
    "    if(num):\n",
    "        return num\n",
    "    else:\n",
    "        return \"none\"\n",
    "n=int(input(\"사람 수?\"))\n",
    "book = dict()\n",
    "for i in range(n):\n",
    "    k = input(\"name=\")\n",
    "    v = input(\"number=\")\n",
    "    book[k]=v\n",
    "k=input(\"검색할 이름?\")\n",
    "v = search_phone(book,k)\n",
    "print(\"{0:s}'s phone number is {1:s}\".format(k,v))"
   ]
  },
  {
   "cell_type": "code",
   "execution_count": 34,
   "id": "940a1000",
   "metadata": {},
   "outputs": [
    {
     "name": "stdout",
     "output_type": "stream",
     "text": [
      "사람 수?3\n",
      "number=f\n",
      "name=v\n",
      "number=e\n",
      "name=v\n",
      "number=e\n",
      "name=v\n",
      "검색할 이름?v\n",
      "v's phone number is e\n"
     ]
    }
   ],
   "source": [
    "def search_phone_short(book,name):\n",
    "    return book[name] if book[name] else \"none\"\n",
    "book = dict()\n",
    "for i in range(int(input(\"사람 수?\"))):\n",
    "    book[input(\"name=\")] = input(\"number=\")\n",
    "k=input(\"검색할 이름?\")\n",
    "v = search_phone_short(book,k)\n",
    "print(\"{0:s}'s phone number is {1:s}\".format(k,v))"
   ]
  },
  {
   "cell_type": "markdown",
   "id": "3a5b561c",
   "metadata": {},
   "source": [
    "실습 6.\n",
    "아래 문자열을 대상으로 지정된 기능을 수행하는 프로그램을 작성하시오\n",
    " - 문자열 양쪽의 공백을 제거\n",
    " - \"나\"를 \"너\"로 변환"
   ]
  },
  {
   "cell_type": "code",
   "execution_count": 13,
   "id": "801f7fe7",
   "metadata": {},
   "outputs": [
    {
     "name": "stdout",
     "output_type": "stream",
     "text": [
      "죽는 날 까지 하늘을 우러러\n",
      "한 점 부끄럼이 없기를,          \n",
      "잎새에 이는 바람에도     \n",
      "너는 괴로워했다.     \n",
      "모든 죽어가는 것을 사랑해야지    \n",
      "그리고 너한테 주어진 길을    \n",
      "걸어가야겠다.    \n",
      "오늘 밤에도 별이 바람에 스치운다.\n"
     ]
    }
   ],
   "source": [
    "text=\"\"\" 죽는 날 까지 하늘을 우러러\n",
    "한 점 부끄럼이 없기를,          \n",
    "잎새에 이는 바람에도     \n",
    "나는 괴로워했다.     \n",
    "모든 죽어가는 것을 사랑해야지    \n",
    "그리고 나한테 주어진 길을    \n",
    "걸어가야겠다.    \n",
    "오늘 밤에도 별이 바람에 스치운다.   \"\"\"\n",
    "text = text.strip().replace(\"나\",\"너\")\n",
    "#text = text.replace(\"나\",\"너\")\n",
    "print(text)"
   ]
  },
  {
   "cell_type": "markdown",
   "id": "9c1da5f1",
   "metadata": {},
   "source": [
    "실습 7.\n",
    "반복문과 조건문을 사용하여 입력된 정수들 중에 가장 큰 값을 출력하는 프로그램을 작성하시오.\n",
    " - 실행 예\n",
    " numbers? 10 456 87 78\n",
    " MAX = 456"
   ]
  },
  {
   "cell_type": "code",
   "execution_count": 19,
   "id": "4826985c",
   "metadata": {},
   "outputs": [
    {
     "name": "stdout",
     "output_type": "stream",
     "text": [
      "numbers? 10 456 87 78\n",
      "Max = 456\n"
     ]
    }
   ],
   "source": [
    "numbers = input(\"numbers? \")\n",
    "nums = numbers.split(' ') ##문자열을 받아서, 공백으로 split. 이후 int로 변환해서 비교.\n",
    "maxnum=0\n",
    "for num in nums:\n",
    "    if(maxnum<int(num)): maxnum=int(num)\n",
    "print(\"Max = {0:d}\".format(maxnum))"
   ]
  },
  {
   "cell_type": "markdown",
   "id": "21032c25",
   "metadata": {},
   "source": [
    "실습 8.\n",
    "입력 받은 문자열을 다음과 같은 방법으로 암호화하고 복호화 하는 프로그램을 작성하시오.\n",
    " - 암호화\n",
    "  - 공백(스페이스,탭) 으로 분리하고, 역순으로 배치\n",
    "  - 아스키 코드를 key만큼 증가\n",
    " -복호화\n",
    "  -아스키 코드를 key 감소\n",
    "  -공백(스페이스,탭) 으로 분리하고, 역순으로 배치\n",
    " -예제: key가 1인 경우\n",
    "     -\"abc def\" -> 암호화 ->\"efg!bcd\"\n",
    "     -\"efg!bcd\" -> 복호화 ->\"abc def\"\n",
    " "
   ]
  },
  {
   "cell_type": "code",
   "execution_count": 35,
   "id": "1d142a41",
   "metadata": {},
   "outputs": [
    {
     "name": "stdout",
     "output_type": "stream",
     "text": [
      "\"abc def\"is encoded into \"efg!bcd\"\n",
      "\"efg!bcd\"is decoded into \"abc def\"\n"
     ]
    }
   ],
   "source": [
    "def conv_asc(str,num):\n",
    "    new_str = \"\"\n",
    "    for i in str:\n",
    "        code = ord(i) ## ord <-> chr . 전자는 아스키code내뱉고, 후자는 문자 내뱉음.\n",
    "        new_str +=chr(code+num)\n",
    "    return new_str\n",
    "def enc(str,key):\n",
    "    list = str.split() #default delimiter = 공백\n",
    "    list = list[::-1] ##list.reverse()도 가능\n",
    "    new_str =\" \".join(list) #공백 기준으로 합쳐라.\n",
    "    return conv_asc(new_str,key)\n",
    "def dec(str,key):\n",
    "    str = conv_asc(str,key*-1) ##key 빼줘야하니까 -1곱함\n",
    "    list = str.split()\n",
    "    list = list[::-1] ##list.reverse()\n",
    "    new_str = \" \".join(list)\n",
    "    return new_str\n",
    "str = \"abc def\"\n",
    "enc_str = enc(str,1)\n",
    "print(\"\\\"\"+str+\"\\\"is encoded into \\\"\"+enc_str+\"\\\"\")\n",
    "dec_str = dec(enc_str,1)\n",
    "print(\"\\\"\"+enc_str+\"\\\"is decoded into \\\"\"+dec_str+\"\\\"\")"
   ]
  },
  {
   "cell_type": "code",
   "execution_count": null,
   "id": "24c97b4a",
   "metadata": {},
   "outputs": [],
   "source": []
  }
 ],
 "metadata": {
  "kernelspec": {
   "display_name": "Python 3 (ipykernel)",
   "language": "python",
   "name": "python3"
  },
  "language_info": {
   "codemirror_mode": {
    "name": "ipython",
    "version": 3
   },
   "file_extension": ".py",
   "mimetype": "text/x-python",
   "name": "python",
   "nbconvert_exporter": "python",
   "pygments_lexer": "ipython3",
   "version": "3.10.4"
  }
 },
 "nbformat": 4,
 "nbformat_minor": 5
}
